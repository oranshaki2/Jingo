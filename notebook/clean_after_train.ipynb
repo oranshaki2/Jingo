{
 "cells": [
  {
   "cell_type": "code",
   "execution_count": 5,
   "id": "6dcf9d0d",
   "metadata": {},
   "outputs": [],
   "source": [
    "import pandas as pd\n",
    "import ast\n",
    "\n",
    "def filter_songs_with_pandas(input_file, output_file):\n",
    "    df = pd.read_csv(input_file)\n",
    "\n",
    "    def process_row(row):\n",
    "        try:\n",
    "            categories = ast.literal_eval(row['categories'])\n",
    "            category_words = ast.literal_eval(row['category_words'])\n",
    "        except:\n",
    "            return None  # Skip if there's a parsing issue\n",
    "\n",
    "        # Filter for categories with at least 2 words\n",
    "        filtered = [(cat, words) for cat, words in zip(categories, category_words) if len(words) > 1]\n",
    "        if not filtered:\n",
    "            return None\n",
    "\n",
    "        new_categories = [cat for cat, _ in filtered]\n",
    "        new_category_words = [words for _, words in filtered]\n",
    "\n",
    "        # Process lyrics\n",
    "        lyrics_lines = row['cleaned_lyrics'].splitlines()\n",
    "        matched_lines = set()\n",
    "\n",
    "        for words in new_category_words:\n",
    "            for word in words:\n",
    "                for line in lyrics_lines:\n",
    "                    if word.lower() in line.lower():\n",
    "                        matched_lines.add(line)\n",
    "                        break  # Only one line per word\n",
    "\n",
    "        if not matched_lines:\n",
    "            return None\n",
    "\n",
    "        return pd.Series({\n",
    "            'Song': row['Song'],\n",
    "            'Artist': row['Artist'],\n",
    "            'Genre': row['Genre'],\n",
    "            'categories': str(new_categories),\n",
    "            'category_words': str(new_category_words),\n",
    "            'cleaned_lyrics': ''.join(line + '\\n' for line in matched_lines)\n",
    "\n",
    "        })\n",
    "\n",
    "    # Apply the processing function to each row\n",
    "    filtered_df = df.apply(process_row, axis=1).dropna()\n",
    "\n",
    "    # Save the result\n",
    "    filtered_df.to_csv(output_file, index=False)\n",
    "\n",
    "# Example usage\n",
    "filter_songs_with_pandas('../data/processed_train_dataset.csv', '../data/filtered_songs.csv')\n"
   ]
  }
 ],
 "metadata": {
  "kernelspec": {
   "display_name": "jupyter-env",
   "language": "python",
   "name": "python3"
  },
  "language_info": {
   "codemirror_mode": {
    "name": "ipython",
    "version": 3
   },
   "file_extension": ".py",
   "mimetype": "text/x-python",
   "name": "python",
   "nbconvert_exporter": "python",
   "pygments_lexer": "ipython3",
   "version": "3.12.3"
  }
 },
 "nbformat": 4,
 "nbformat_minor": 5
}
