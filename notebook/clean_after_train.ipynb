{
 "cells": [
  {
   "cell_type": "markdown",
   "id": "8717ac44",
   "metadata": {},
   "source": [
    "### This script filters songs based on their categories and category words.\n",
    "It processes the lyrics to find lines that match the category words and saves the results to a new CSV file.\n"
   ]
  },
  {
   "cell_type": "code",
   "execution_count": null,
   "id": "6dcf9d0d",
   "metadata": {},
   "outputs": [],
   "source": [
    "import pandas as pd\n",
    "import ast\n",
    "import re\n",
    "\n",
    "def filter_songs_with_pandas(input_file, output_file):\n",
    "    df = pd.read_csv(input_file)\n",
    "\n",
    "    def process_row(row):\n",
    "        try:\n",
    "            categories = ast.literal_eval(row['categories'])\n",
    "            category_words = ast.literal_eval(row['category_words'])\n",
    "        except:\n",
    "            return None  # Skip if there's a parsing issue\n",
    "\n",
    "        # Replace underscores with spaces in category_words\n",
    "        category_words = [[word.replace('_', ' ') for word in word_list] for word_list in category_words]\n",
    "\n",
    "\n",
    "        # Filter for categories with at least 2 words\n",
    "        filtered = [(cat, words) for cat, words in zip(categories, category_words) if len(words) > 2]\n",
    "        if not filtered:\n",
    "            return None\n",
    "\n",
    "        new_categories = [cat for cat, _ in filtered]\n",
    "        new_category_words = [words for _, words in filtered]\n",
    "\n",
    "        # Process lyrics\n",
    "        lyrics_lines = row['cleaned_lyrics'].splitlines()\n",
    "        matched_lines = set()\n",
    "\n",
    "        for words in new_category_words:\n",
    "            for word in words:\n",
    "                word_pattern = r'\\b{}\\b'.format(re.escape(word.lower()))\n",
    "                for line in lyrics_lines:\n",
    "                    line_normalized = line.lower().replace('_', ' ')\n",
    "                    # Check if the word (with space) is in the line (with underscores replaced)\n",
    "                    if re.search(word_pattern, line_normalized):\n",
    "                        matched_lines.add(line.replace('_', ' '))\n",
    "                        break  # Only one line per word\n",
    "\n",
    "        if not matched_lines:\n",
    "            return None\n",
    "\n",
    "        return pd.Series({\n",
    "            'Song': row['Song'],\n",
    "            'Artist': row['Artist'],\n",
    "            'Genre': row['Genre'],\n",
    "            'categories': str(new_categories),\n",
    "            'category_words': str(new_category_words),\n",
    "            'cleaned_lyrics': ''.join(line + '\\n' for line in matched_lines)\n",
    "\n",
    "        })\n",
    "\n",
    "    # Apply the processing function to each row\n",
    "    filtered_df = df.apply(process_row, axis=1).dropna()\n",
    "\n",
    "    # Save the result\n",
    "    filtered_df.to_csv(output_file, index=False)\n",
    "\n",
    "# Example usage\n",
    "filter_songs_with_pandas('../data/filtered_songs_disambiguated2.csv', '../data/oran_filtered.csv')\n"
   ]
  }
 ],
 "metadata": {
  "kernelspec": {
   "display_name": "Python 3",
   "language": "python",
   "name": "python3"
  },
  "language_info": {
   "codemirror_mode": {
    "name": "ipython",
    "version": 3
   },
   "file_extension": ".py",
   "mimetype": "text/x-python",
   "name": "python",
   "nbconvert_exporter": "python",
   "pygments_lexer": "ipython3",
   "version": "3.10.12"
  }
 },
 "nbformat": 4,
 "nbformat_minor": 5
}
