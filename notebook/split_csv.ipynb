{
 "cells": [
  {
   "cell_type": "code",
   "execution_count": 2,
   "id": "8c5c800e",
   "metadata": {},
   "outputs": [
    {
     "name": "stdout",
     "output_type": "stream",
     "text": [
      "The file was successfully split into two parts.\n"
     ]
    }
   ],
   "source": [
    "import pandas as pd\n",
    "\n",
    "# Input: CSV file name\n",
    "input_file = '../data/deduplicated_songs.csv'\n",
    "\n",
    "# Load the data into a pandas DataFrame\n",
    "df = pd.read_csv(input_file)\n",
    "\n",
    "# Calculate the split index (middle of the dataset)\n",
    "split_index = len(df) // 2\n",
    "\n",
    "# Split the data\n",
    "df_first_half = df.iloc[:split_index]\n",
    "df_second_half = df.iloc[split_index:]\n",
    "\n",
    "# Save to two separate files\n",
    "df_first_half.to_csv('../data/songs_category_before_tran1.csv', index=False)\n",
    "df_second_half.to_csv('../data/songs_category_before_tran2.csv', index=False)\n",
    "\n",
    "print(\"The file was successfully split into two parts.\")\n"
   ]
  }
 ],
 "metadata": {
  "kernelspec": {
   "display_name": "jupyter-env",
   "language": "python",
   "name": "python3"
  },
  "language_info": {
   "codemirror_mode": {
    "name": "ipython",
    "version": 3
   },
   "file_extension": ".py",
   "mimetype": "text/x-python",
   "name": "python",
   "nbconvert_exporter": "python",
   "pygments_lexer": "ipython3",
   "version": "3.12.3"
  }
 },
 "nbformat": 4,
 "nbformat_minor": 5
}
