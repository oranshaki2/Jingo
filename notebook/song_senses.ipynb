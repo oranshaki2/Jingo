{
 "cells": [
  {
   "cell_type": "code",
   "execution_count": 1,
   "id": "d56d7b35",
   "metadata": {},
   "outputs": [
    {
     "name": "stderr",
     "output_type": "stream",
     "text": [
      "/home/hila/Jingo/jupyter-env/lib/python3.12/site-packages/tqdm/auto.py:21: TqdmWarning: IProgress not found. Please update jupyter and ipywidgets. See https://ipywidgets.readthedocs.io/en/stable/user_install.html\n",
      "  from .autonotebook import tqdm as notebook_tqdm\n",
      "Xet Storage is enabled for this repo, but the 'hf_xet' package is not installed. Falling back to regular HTTP download. For better performance, install the package with: `pip install huggingface_hub[hf_xet]` or `pip install hf_xet`\n"
     ]
    },
    {
     "name": "stdout",
     "output_type": "stream",
     "text": [
      "coat בהקשר הזה משמעה: 'שכבה' (a layer of something (like paint or nail polish))\n"
     ]
    }
   ],
   "source": [
    "from sentence_transformers import SentenceTransformer, util\n",
    "\n",
    "# מודל להבנה סמנטית\n",
    "model = SentenceTransformer('all-MiniLM-L6-v2')\n",
    "\n",
    "# אפשרויות פירוש של המילה \"coat\" עם תרגום לעברית\n",
    "senses = {\n",
    "    \"a layer of something (like paint or nail polish)\": \"שכבה\",\n",
    "    \"an outer garment worn for warmth\": \"מעיל\",\n",
    "    \"a layer of fur, hair, or wool on an animal\": \"פרווה של חיה\",\n",
    "    \"to cover something with a layer of substance\": \"לצפות בשכבה\"\n",
    "}\n",
    "\n",
    "def get_word_meaning(sentence, word):\n",
    "    # חשב embedding למשפט\n",
    "    sentence_embedding = model.encode(sentence, convert_to_tensor=True)\n",
    "    \n",
    "    best_score = -1\n",
    "    best_meaning = \"\"\n",
    "    \n",
    "    for definition, hebrew in senses.items():\n",
    "        definition_embedding = model.encode(definition, convert_to_tensor=True)\n",
    "        score = util.cos_sim(sentence_embedding, definition_embedding).item()\n",
    "        \n",
    "        if score > best_score:\n",
    "            best_score = score\n",
    "            best_meaning = f\"{word} בהקשר הזה משמעה: '{hebrew}' ({definition})\"\n",
    "    \n",
    "    return best_meaning\n",
    "\n",
    "# 🔍 דוגמה:\n",
    "sentence = \"She put another coat on her nails\"\n",
    "word = \"coat\"\n",
    "\n",
    "meaning = get_word_meaning(sentence, word)\n",
    "print(meaning)\n"
   ]
  }
 ],
 "metadata": {
  "kernelspec": {
   "display_name": "jupyter-env",
   "language": "python",
   "name": "python3"
  },
  "language_info": {
   "codemirror_mode": {
    "name": "ipython",
    "version": 3
   },
   "file_extension": ".py",
   "mimetype": "text/x-python",
   "name": "python",
   "nbconvert_exporter": "python",
   "pygments_lexer": "ipython3",
   "version": "3.12.3"
  }
 },
 "nbformat": 4,
 "nbformat_minor": 5
}
