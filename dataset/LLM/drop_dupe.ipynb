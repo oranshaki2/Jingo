{
 "cells": [
  {
   "cell_type": "markdown",
   "id": "ec867bc7",
   "metadata": {},
   "source": [
    "## This script removes duplicate songs from a CSV file based on the song title and artist.\n",
    "It ignores parentheses in song titles and filters out songs with 'cover' in the title.\n",
    "It also filters out songs by the artist 'Glee'.\n",
    "The script keeps the first occurrence of each song and saves the cleaned data to a new CSV file.\n",
    "The script uses the pandas library for data manipulation and regular expressions for cleaning song titles."
   ]
  },
  {
   "cell_type": "code",
   "execution_count": null,
   "id": "6c9a3da6",
   "metadata": {},
   "outputs": [
    {
     "name": "stdout",
     "output_type": "stream",
     "text": [
      "Processed 96043 songs, removed 17226 duplicates. Output saved to ../data/deduplicated_songs.csv\n"
     ]
    }
   ],
   "source": [
    "import pandas as pd\n",
    "\n",
    "def clean_song_title(title):\n",
    "    \"\"\"Remove parentheses and their contents from song titles.\"\"\"\n",
    "    import re\n",
    "    return re.sub(r'\\([^)]*\\)', '', title).strip()\n",
    "\n",
    "def remove_duplicates(input_csv, output_csv):\n",
    "    \"\"\"\n",
    "    Remove duplicate songs based on Song and Artist, ignoring parentheses in song titles.\n",
    "    Keeps the first occurrence.\n",
    "    \"\"\"\n",
    "    # Read the CSV file\n",
    "    df = pd.read_csv(input_csv)\n",
    "    # Filter out songs with 'cover' in title (case insensitive)\n",
    "    df = df[~df['Song'].str.lower().str.contains('cover')]\n",
    "    \n",
    "    # Filter out songs by Artist 'Glee' (exact match)\n",
    "    df = df[df['Artist'] != 'glee']\n",
    "\n",
    "    # Create a temporary column for cleaned song titles\n",
    "    df['cleaned_song'] = df['Song'].apply(clean_song_title)\n",
    "    \n",
    "    # Identify duplicates based on cleaned song title and Artist\n",
    "    df['is_duplicate'] = df.duplicated(subset=['cleaned_song', 'Artist'], keep='first')\n",
    "    \n",
    "    # Keep only the first occurrence (non-duplicates)\n",
    "    df_cleaned = df[~df['is_duplicate']].copy()\n",
    "    \n",
    "    # Drop temporary columns\n",
    "    df_cleaned = df_cleaned.drop(columns=['cleaned_song', 'is_duplicate'])\n",
    "    \n",
    "    # Save to output CSV\n",
    "    df_cleaned.to_csv(output_csv, index=False)\n",
    "    print(f\"Processed {len(df)} songs, removed {len(df) - len(df_cleaned)} duplicates. Output saved to {output_csv}\")\n",
    "\n",
    "# Example usage\n",
    "if __name__ == \"__main__\":\n",
    "    input_file = \"../../data/filtered_songs_three.csv\"\n",
    "    output_file = \"../../data/deduplicated_songs.csv\"\n",
    "    remove_duplicates(input_file, output_file)"
   ]
  }
 ],
 "metadata": {
  "kernelspec": {
   "display_name": "jupyter-env",
   "language": "python",
   "name": "python3"
  },
  "language_info": {
   "codemirror_mode": {
    "name": "ipython",
    "version": 3
   },
   "file_extension": ".py",
   "mimetype": "text/x-python",
   "name": "python",
   "nbconvert_exporter": "python",
   "pygments_lexer": "ipython3",
   "version": "3.12.3"
  }
 },
 "nbformat": 4,
 "nbformat_minor": 5
}
